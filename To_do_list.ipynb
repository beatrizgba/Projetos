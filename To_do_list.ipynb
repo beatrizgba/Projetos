{
  "cells": [
    {
      "cell_type": "markdown",
      "metadata": {
        "id": "view-in-github",
        "colab_type": "text"
      },
      "source": [
        "<a href=\"https://colab.research.google.com/github/beatrizgba/Projetos/blob/main/To_do_list.ipynb\" target=\"_parent\"><img src=\"https://colab.research.google.com/assets/colab-badge.svg\" alt=\"Open In Colab\"/></a>"
      ]
    },
    {
      "cell_type": "code",
      "source": [
        "class Nenhum(Exception):\n",
        "    pass"
      ],
      "metadata": {
        "id": "g7nTQPAjbvoa"
      },
      "execution_count": 33,
      "outputs": []
    },
    {
      "cell_type": "code",
      "execution_count": 34,
      "metadata": {
        "id": "kp4LKCswrCNS"
      },
      "outputs": [],
      "source": [
        "def add(to_do_list):\n",
        "  task = input('Qual a tarefa que deseja adicionar? ')\n",
        "  to_do_list.append(task)\n",
        "\n",
        "\n",
        "  return to_do_list\n",
        "\n",
        "\n",
        "def r(to_do_list):\n",
        "  task = input('Qual a tarefa que deseja remover? (Nome / Número) ')\n",
        "\n",
        "\n",
        "  try:\n",
        "    int(task)\n",
        "    to_do_list.pop(int(task)-1)\n",
        "\n",
        "  except ValueError:\n",
        "    to_do_list.remove(task)\n",
        "\n",
        "\n",
        "\n",
        "  return to_do_list\n",
        "\n",
        "\n",
        "def update(to_do_list):\n",
        "  task = input('Qual a tarefa que deseja atualizar? (Nome / Número) ')\n",
        "\n",
        "  try:\n",
        "    int(task)\n",
        "    to_do_list[int(task)-1] = input('Nova tarefa: ')\n",
        "\n",
        "  except ValueError:\n",
        "    index = to_do_list.index(task)\n",
        "    to_do_list[index] = input('Nova tarefa: ')\n",
        "\n",
        "\n",
        "\n",
        "  return to_do_list\n",
        "\n"
      ]
    },
    {
      "cell_type": "code",
      "execution_count": 35,
      "metadata": {
        "id": "iOUcyjs_sM4P"
      },
      "outputs": [],
      "source": [
        "to_do_list = []"
      ]
    },
    {
      "cell_type": "code",
      "execution_count": 37,
      "metadata": {
        "colab": {
          "base_uri": "https://localhost:8080/"
        },
        "id": "hI-IrTl7qyV4",
        "outputId": "a278387a-6a27-4f3b-c7dd-febbe16ec1d3"
      },
      "outputs": [
        {
          "name": "stdout",
          "output_type": "stream",
          "text": [
            "--- To-do List ---\n",
            "\n",
            "Escolha uma das opções: \n",
            " 1 - Adicionar | 2 - remover | 3 - atualizar | 4 - ver lista | 5 - fechar programa: 8\n",
            "Opção invalida\n",
            "\n",
            "Escolha uma das opções: \n",
            " 1 - Adicionar | 2 - remover | 3 - atualizar | 4 - ver lista | 5 - fechar programa: 1\n",
            "Adicionando...\n",
            "\n",
            "Qual a tarefa que deseja adicionar? estudar matematica\n",
            "\n",
            "--- To-do List ---\n",
            "1 -  estudar matematica\n",
            "2 -  lavar a louça\n",
            "3 -  estudar matematica\n",
            "\n",
            "Escolha uma das opções: \n",
            " 1 - Adicionar | 2 - remover | 3 - atualizar | 4 - ver lista | 5 - fechar programa: 1\n",
            "Adicionando...\n",
            "\n",
            "Qual a tarefa que deseja adicionar? assistir aula\n",
            "\n",
            "--- To-do List ---\n",
            "1 -  estudar matematica\n",
            "2 -  lavar a louça\n",
            "3 -  estudar matematica\n",
            "4 -  assistir aula\n",
            "\n",
            "Escolha uma das opções: \n",
            " 1 - Adicionar | 2 - remover | 3 - atualizar | 4 - ver lista | 5 - fechar programa: 1\n",
            "Adicionando...\n",
            "\n",
            "Qual a tarefa que deseja adicionar? ir na academi\n",
            "\n",
            "--- To-do List ---\n",
            "1 -  estudar matematica\n",
            "2 -  lavar a louça\n",
            "3 -  estudar matematica\n",
            "4 -  assistir aula\n",
            "5 -  ir na academi\n",
            "\n",
            "Escolha uma das opções: \n",
            " 1 - Adicionar | 2 - remover | 3 - atualizar | 4 - ver lista | 5 - fechar programa: 3\n",
            "Qual a tarefa que deseja atualizar? (Nome / Número) 5\n",
            "Nova tarefa: ir na academia\n",
            "\n",
            "--- To-do List ---\n",
            "1 -  estudar matematica\n",
            "2 -  lavar a louça\n",
            "3 -  estudar matematica\n",
            "4 -  assistir aula\n",
            "5 -  ir na academia\n",
            "\n",
            "Escolha uma das opções: \n",
            " 1 - Adicionar | 2 - remover | 3 - atualizar | 4 - ver lista | 5 - fechar programa: 2\n",
            "Qual a tarefa que deseja remover? (Nome / Número) 3\n",
            "\n",
            "--- To-do List ---\n",
            "1 -  estudar matematica\n",
            "2 -  lavar a louça\n",
            "3 -  assistir aula\n",
            "4 -  ir na academia\n",
            "\n",
            "Escolha uma das opções: \n",
            " 1 - Adicionar | 2 - remover | 3 - atualizar | 4 - ver lista | 5 - fechar programa: or\n",
            "Opção invalida\n",
            "\n",
            "Escolha uma das opções: \n",
            " 1 - Adicionar | 2 - remover | 3 - atualizar | 4 - ver lista | 5 - fechar programa: 4\n",
            "\n",
            "--- To-do List ---\n",
            "1 -  estudar matematica\n",
            "2 -  lavar a louça\n",
            "3 -  assistir aula\n",
            "4 -  ir na academia\n",
            "\n",
            "Escolha uma das opções: \n",
            " 1 - Adicionar | 2 - remover | 3 - atualizar | 4 - ver lista | 5 - fechar programa: 5\n"
          ]
        }
      ],
      "source": [
        "\n",
        "print('--- To-do List ---\\n')\n",
        "\n",
        "while True:\n",
        "  try:\n",
        "    escolha = int(input('Escolha uma das opções: \\n 1 - Adicionar | 2 - remover | 3 - atualizar | 4 - ver lista | 5 - fechar programa: '))\n",
        "\n",
        "    if escolha not in [1, 2, 3, 4, 5]:\n",
        "      raise Nenhum()\n",
        "\n",
        "  except (ValueError, Nenhum):\n",
        "    print('Opção invalida\\n')\n",
        "    continue\n",
        "\n",
        "\n",
        "  if escolha == 5:\n",
        "    break\n",
        "\n",
        "  elif escolha == 4:\n",
        "    print('\\n--- To-do List ---')\n",
        "    for i in range(0, len(to_do_list)):\n",
        "      print(f'{i+1} - ', to_do_list[i])\n",
        "\n",
        "    print()\n",
        "\n",
        "  elif escolha == 1:\n",
        "    print('Adicionando...\\n')\n",
        "    to_do_list = add(to_do_list)\n",
        "\n",
        "  elif escolha == 2:\n",
        "    to_do_list = r(to_do_list)\n",
        "\n",
        "  else:\n",
        "    to_do_list = update(to_do_list)\n",
        "\n",
        "  if escolha != 4:\n",
        "    print('\\n--- To-do List ---')\n",
        "\n",
        "    for i in range(0, len(to_do_list)):\n",
        "      print(f'{i+1} - ', to_do_list[i])\n",
        "\n",
        "    print()\n"
      ]
    },
    {
      "cell_type": "code",
      "execution_count": null,
      "metadata": {
        "id": "-Pp1FgxSq5AC"
      },
      "outputs": [],
      "source": []
    }
  ],
  "metadata": {
    "colab": {
      "provenance": [],
      "authorship_tag": "ABX9TyN9k7os/Og+UoUFR3XKcj4T",
      "include_colab_link": true
    },
    "kernelspec": {
      "display_name": "Python 3",
      "name": "python3"
    },
    "language_info": {
      "name": "python"
    }
  },
  "nbformat": 4,
  "nbformat_minor": 0
}