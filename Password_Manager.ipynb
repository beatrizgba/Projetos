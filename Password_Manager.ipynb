{
  "cells": [
    {
      "cell_type": "code",
      "execution_count": null,
      "metadata": {
        "colab": {
          "base_uri": "https://localhost:8080/"
        },
        "id": "k4l7lSnQNHo8",
        "outputId": "b321791d-943e-4e26-f1ee-1230d0bc37ba"
      },
      "outputs": [
        {
          "name": "stdout",
          "output_type": "stream",
          "text": [
            "Requirement already satisfied: cryptography in /usr/local/lib/python3.12/dist-packages (43.0.3)\n",
            "Requirement already satisfied: cffi>=1.12 in /usr/local/lib/python3.12/dist-packages (from cryptography) (1.17.1)\n",
            "Requirement already satisfied: pycparser in /usr/local/lib/python3.12/dist-packages (from cffi>=1.12->cryptography) (2.22)\n"
          ]
        }
      ],
      "source": [
        "!pip install cryptography"
      ]
    },
    {
      "cell_type": "code",
      "execution_count": null,
      "metadata": {
        "id": "c-RhiXupNPO7"
      },
      "outputs": [],
      "source": [
        "from cryptography.fernet import Fernet"
      ]
    },
    {
      "cell_type": "code",
      "execution_count": null,
      "metadata": {
        "colab": {
          "background_save": true,
          "base_uri": "https://localhost:8080/"
        },
        "id": "m-E5_6fKFr1_",
        "outputId": "39203c97-6dea-4a35-e28a-55afe2c362fd"
      },
      "outputs": [
        {
          "name": "stdout",
          "output_type": "stream",
          "text": [
            "\n",
            "User: Bea | Password: 123\n"
          ]
        }
      ],
      "source": [
        "'''def write_key():\n",
        "  key = Fernet.generate_key()\n",
        "  with open(\"key.key\", \"wb\") as key_file:\n",
        "    key_file.write(key)'''\n",
        "\n",
        "def load_key():\n",
        "  file = open(\"key.key\", \"rb\")\n",
        "  key = file.read()\n",
        "  file.close()\n",
        "  return key\n",
        "\n",
        "def view():\n",
        "  with open('password.txt', 'r') as f:\n",
        "    for line in f.readlines():\n",
        "      data = line.rstrip()\n",
        "      user, passw = data.split(\"|\")\n",
        "      print(f\"User: {user} | Password: {fer.decrypt(passw.encode()).decode()}\")\n",
        "\n",
        "\n",
        "\n",
        "def add():\n",
        "  name = input(\"Account Name: \")\n",
        "  pwd = input(\"Password: \")\n",
        "\n",
        "  with open('password.txt', 'a') as f:\n",
        "\n",
        "  # r = read, w = escrever, mas exclui o antigo se tiver, a = add a um documento, ou cria um e add.\n",
        "  # mesma coisa que:\n",
        "  # file = open('password.txt', 'a')\n",
        "  # file.close()\n",
        "\n",
        "    f.write(f\"{name}|{fer.encrypt(pwd.encode()).decode()}\\n\") # criar como string\n",
        "\n",
        "\n",
        "key = load_key() # Corrected to call load_key()\n",
        "fer = Fernet(key)\n",
        "\n",
        "while True:\n",
        "  mode = input(\"\\nWould you like to add a new password or view existing ones (view, add, q to quit) \").lower()\n",
        "  print()\n",
        "\n",
        "  if mode == \"q\":\n",
        "    break\n",
        "\n",
        "  if mode == \"view\":\n",
        "    view()\n",
        "\n",
        "  elif mode == \"add\":\n",
        "    add()\n",
        "\n",
        "  else:\n",
        "    print(\"Invalid mode\")"
      ]
    }
  ],
  "metadata": {
    "colab": {
      "provenance": []
    },
    "kernelspec": {
      "display_name": "Python 3",
      "name": "python3"
    },
    "language_info": {
      "name": "python"
    }
  },
  "nbformat": 4,
  "nbformat_minor": 0
}
