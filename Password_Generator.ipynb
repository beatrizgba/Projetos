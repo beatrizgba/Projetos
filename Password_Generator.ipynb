{
  "nbformat": 4,
  "nbformat_minor": 0,
  "metadata": {
    "colab": {
      "provenance": [],
      "authorship_tag": "ABX9TyPwoAiAJkWj7/tZXSyVE+ZC",
      "include_colab_link": true
    },
    "kernelspec": {
      "name": "python3",
      "display_name": "Python 3"
    },
    "language_info": {
      "name": "python"
    }
  },
  "cells": [
    {
      "cell_type": "markdown",
      "metadata": {
        "id": "view-in-github",
        "colab_type": "text"
      },
      "source": [
        "<a href=\"https://colab.research.google.com/github/beatrizgba/Projetos/blob/main/Password_Generator.ipynb\" target=\"_parent\"><img src=\"https://colab.research.google.com/assets/colab-badge.svg\" alt=\"Open In Colab\"/></a>"
      ]
    },
    {
      "cell_type": "code",
      "source": [
        "import random"
      ],
      "metadata": {
        "id": "S3eMAlNOYo3A"
      },
      "execution_count": null,
      "outputs": []
    },
    {
      "cell_type": "code",
      "source": [
        "upper_letters = ['A', 'B', 'C', 'D', 'E', 'F', 'G', 'H', 'I', 'J', 'K', 'L','M','N', 'O', 'P', 'Q', 'R', 'S', 'T', 'U', 'V', 'W', 'X', 'Y', 'Z']\n",
        "\n",
        "lower_letters = ['a', 'b', 'c', 'd', 'e', 'f', 'g', 'h', 'i', 'j', 'k', 'l','m','n', 'o', 'p', 'q', 'r', 's', 't', 'u', 'v', 'w', 'x', 'y', 'z']\n",
        "\n"
      ],
      "metadata": {
        "id": "ex152oYaYqSX"
      },
      "execution_count": null,
      "outputs": []
    },
    {
      "cell_type": "code",
      "execution_count": null,
      "metadata": {
        "colab": {
          "base_uri": "https://localhost:8080/"
        },
        "id": "2ADfC5VCWwU1",
        "outputId": "98c3e4f8-b8f6-49ff-80f3-f093dd7445a8"
      },
      "outputs": [
        {
          "output_type": "stream",
          "name": "stdout",
          "text": [
            "--- Password Generator ---\n",
            "\n",
            "How many digits? 2\n",
            "Should it have numbers? Yes or No yes\n",
            "Should it have letters? Yes or No no\n",
            "\n",
            "Password generated is 07.\n"
          ]
        }
      ],
      "source": [
        "print(\"--- Password Generator ---\")\n",
        "print()\n",
        "\n",
        "choices = []\n",
        "digits = []\n",
        "\n",
        "qty = int(input('How many digits? '))\n",
        "num = input(\"Should it have numbers? Yes or No: \").upper()\n",
        "letters = input(\"Should it have letters? Yes or No: \").upper()\n",
        "\n",
        "if letters == 'YES':\n",
        "  choices.append('l')\n",
        "  up_low = input(\"Upper, lower or both  letters? \").upper()\n",
        "\n",
        "\n",
        "if num == 'YES':\n",
        "  choices.append('n')\n",
        "\n",
        "\n",
        "for i in range(qty):\n",
        "  digit_type = random.choice(choices)\n",
        "\n",
        "  if digit_type == 'n':\n",
        "    digits.append(random.randint(0, 9))\n",
        "\n",
        "  else:\n",
        "    if up_low == 'BOTH':\n",
        "      choice_from = random.choice([upper_letters, lower_letters])\n",
        "      digit = random.choice(choice_from)\n",
        "      digits.append(digit)\n",
        "\n",
        "    elif up_low == 'LOWER':\n",
        "      digits.append(random.choice(lower_letters))\n",
        "\n",
        "    else:\n",
        "      digits.append(random.choice(upper_letters))\n",
        "\n",
        "print()\n",
        "print('Password generated is ', end='')\n",
        "for digit in digits:\n",
        "  print(digit, end='')\n",
        "\n",
        "print('.')\n"
      ]
    },
    {
      "cell_type": "code",
      "source": [],
      "metadata": {
        "id": "_NB7H68VXrJv"
      },
      "execution_count": null,
      "outputs": []
    }
  ]
}